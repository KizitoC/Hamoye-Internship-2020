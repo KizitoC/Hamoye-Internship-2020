{
 "cells": [
  {
   "cell_type": "code",
   "execution_count": 1,
   "metadata": {},
   "outputs": [],
   "source": [
    "# Import Numpy and Pandas Module\n",
    "import numpy as np\n",
    "import pandas as pd"
   ]
  },
  {
   "cell_type": "markdown",
   "metadata": {},
   "source": [
    "## Question 1"
   ]
  },
  {
   "cell_type": "code",
   "execution_count": 2,
   "metadata": {},
   "outputs": [
    {
     "data": {
      "text/plain": [
       "[1, 2, 3, 4, 5, 6, 13, 21, 34]"
      ]
     },
     "execution_count": 2,
     "metadata": {},
     "output_type": "execute_result"
    }
   ],
   "source": [
    "# The extend() function creates a single one dimensional list from lists A and B\n",
    "A = [1, 2, 3, 4, 5, 6]\n",
    "B = [13, 21, 34]\n",
    "A_B = A.extend(B)\n",
    "A"
   ]
  },
  {
   "cell_type": "markdown",
   "metadata": {},
   "source": [
    "## Question 2"
   ]
  },
  {
   "cell_type": "code",
   "execution_count": 3,
   "metadata": {},
   "outputs": [
    {
     "data": {
      "text/plain": [
       "array([[1., 0., 0.],\n",
       "       [0., 1., 0.],\n",
       "       [0., 0., 1.]])"
      ]
     },
     "execution_count": 3,
     "metadata": {},
     "output_type": "execute_result"
    }
   ],
   "source": [
    "# The np.identity() function creates a 3x3 identity matrix here\n",
    "a = np.identity(3)\n",
    "a"
   ]
  },
  {
   "cell_type": "markdown",
   "metadata": {},
   "source": [
    "## Question 3"
   ]
  },
  {
   "cell_type": "code",
   "execution_count": 4,
   "metadata": {},
   "outputs": [
    {
     "data": {
      "text/html": [
       "<div>\n",
       "<style scoped>\n",
       "    .dataframe tbody tr th:only-of-type {\n",
       "        vertical-align: middle;\n",
       "    }\n",
       "\n",
       "    .dataframe tbody tr th {\n",
       "        vertical-align: top;\n",
       "    }\n",
       "\n",
       "    .dataframe thead th {\n",
       "        text-align: right;\n",
       "    }\n",
       "</style>\n",
       "<table border=\"1\" class=\"dataframe\">\n",
       "  <thead>\n",
       "    <tr style=\"text-align: right;\">\n",
       "      <th></th>\n",
       "      <th>Unnamed: 0</th>\n",
       "      <th>record_id</th>\n",
       "      <th>utility_id_ferc1</th>\n",
       "      <th>report_year</th>\n",
       "      <th>plant_name_ferc1</th>\n",
       "      <th>fuel_type_code_pudl</th>\n",
       "      <th>fuel_unit</th>\n",
       "      <th>fuel_qty_burned</th>\n",
       "      <th>fuel_mmbtu_per_unit</th>\n",
       "      <th>fuel_cost_per_unit_burned</th>\n",
       "      <th>fuel_cost_per_unit_delivered</th>\n",
       "      <th>fuel_cost_per_mmbtu</th>\n",
       "    </tr>\n",
       "  </thead>\n",
       "  <tbody>\n",
       "    <tr>\n",
       "      <th>0</th>\n",
       "      <td>0</td>\n",
       "      <td>f1_fuel_1994_12_1_0_7</td>\n",
       "      <td>1</td>\n",
       "      <td>1994</td>\n",
       "      <td>rockport</td>\n",
       "      <td>coal</td>\n",
       "      <td>ton</td>\n",
       "      <td>5377489.0</td>\n",
       "      <td>16.590</td>\n",
       "      <td>18.59</td>\n",
       "      <td>18.53</td>\n",
       "      <td>1.121</td>\n",
       "    </tr>\n",
       "    <tr>\n",
       "      <th>1</th>\n",
       "      <td>1</td>\n",
       "      <td>f1_fuel_1994_12_1_0_10</td>\n",
       "      <td>1</td>\n",
       "      <td>1994</td>\n",
       "      <td>rockport total plant</td>\n",
       "      <td>coal</td>\n",
       "      <td>ton</td>\n",
       "      <td>10486945.0</td>\n",
       "      <td>16.592</td>\n",
       "      <td>18.58</td>\n",
       "      <td>18.53</td>\n",
       "      <td>1.120</td>\n",
       "    </tr>\n",
       "    <tr>\n",
       "      <th>2</th>\n",
       "      <td>2</td>\n",
       "      <td>f1_fuel_1994_12_2_0_1</td>\n",
       "      <td>2</td>\n",
       "      <td>1994</td>\n",
       "      <td>gorgas</td>\n",
       "      <td>coal</td>\n",
       "      <td>ton</td>\n",
       "      <td>2978683.0</td>\n",
       "      <td>24.130</td>\n",
       "      <td>39.72</td>\n",
       "      <td>38.12</td>\n",
       "      <td>1.650</td>\n",
       "    </tr>\n",
       "    <tr>\n",
       "      <th>3</th>\n",
       "      <td>3</td>\n",
       "      <td>f1_fuel_1994_12_2_0_7</td>\n",
       "      <td>2</td>\n",
       "      <td>1994</td>\n",
       "      <td>barry</td>\n",
       "      <td>coal</td>\n",
       "      <td>ton</td>\n",
       "      <td>3739484.0</td>\n",
       "      <td>23.950</td>\n",
       "      <td>47.21</td>\n",
       "      <td>45.99</td>\n",
       "      <td>1.970</td>\n",
       "    </tr>\n",
       "    <tr>\n",
       "      <th>4</th>\n",
       "      <td>4</td>\n",
       "      <td>f1_fuel_1994_12_2_0_10</td>\n",
       "      <td>2</td>\n",
       "      <td>1994</td>\n",
       "      <td>chickasaw</td>\n",
       "      <td>gas</td>\n",
       "      <td>mcf</td>\n",
       "      <td>40533.0</td>\n",
       "      <td>1.000</td>\n",
       "      <td>2.77</td>\n",
       "      <td>2.77</td>\n",
       "      <td>2.570</td>\n",
       "    </tr>\n",
       "  </tbody>\n",
       "</table>\n",
       "</div>"
      ],
      "text/plain": [
       "   Unnamed: 0               record_id  utility_id_ferc1  report_year  \\\n",
       "0           0   f1_fuel_1994_12_1_0_7                 1         1994   \n",
       "1           1  f1_fuel_1994_12_1_0_10                 1         1994   \n",
       "2           2   f1_fuel_1994_12_2_0_1                 2         1994   \n",
       "3           3   f1_fuel_1994_12_2_0_7                 2         1994   \n",
       "4           4  f1_fuel_1994_12_2_0_10                 2         1994   \n",
       "\n",
       "       plant_name_ferc1 fuel_type_code_pudl fuel_unit  fuel_qty_burned  \\\n",
       "0              rockport                coal       ton        5377489.0   \n",
       "1  rockport total plant                coal       ton       10486945.0   \n",
       "2                gorgas                coal       ton        2978683.0   \n",
       "3                 barry                coal       ton        3739484.0   \n",
       "4             chickasaw                 gas       mcf          40533.0   \n",
       "\n",
       "   fuel_mmbtu_per_unit  fuel_cost_per_unit_burned  \\\n",
       "0               16.590                      18.59   \n",
       "1               16.592                      18.58   \n",
       "2               24.130                      39.72   \n",
       "3               23.950                      47.21   \n",
       "4                1.000                       2.77   \n",
       "\n",
       "   fuel_cost_per_unit_delivered  fuel_cost_per_mmbtu  \n",
       "0                         18.53                1.121  \n",
       "1                         18.53                1.120  \n",
       "2                         38.12                1.650  \n",
       "3                         45.99                1.970  \n",
       "4                          2.77                2.570  "
      ]
     },
     "execution_count": 4,
     "metadata": {},
     "output_type": "execute_result"
    }
   ],
   "source": [
    "# Read the Hamoye Fuel Dataset to work with the data and show the first five rows and columns of the data set\n",
    "hamoye_fuel_data = pd.read_csv('kizhamdata.csv', error_bad_lines=False)\n",
    "hamoye_fuel_data.head()"
   ]
  },
  {
   "cell_type": "code",
   "execution_count": 5,
   "metadata": {},
   "outputs": [
    {
     "data": {
      "text/html": [
       "<div>\n",
       "<style scoped>\n",
       "    .dataframe tbody tr th:only-of-type {\n",
       "        vertical-align: middle;\n",
       "    }\n",
       "\n",
       "    .dataframe tbody tr th {\n",
       "        vertical-align: top;\n",
       "    }\n",
       "\n",
       "    .dataframe thead th {\n",
       "        text-align: right;\n",
       "    }\n",
       "</style>\n",
       "<table border=\"1\" class=\"dataframe\">\n",
       "  <thead>\n",
       "    <tr style=\"text-align: right;\">\n",
       "      <th></th>\n",
       "      <th>record_id</th>\n",
       "      <th>utility_id_ferc1</th>\n",
       "      <th>report_year</th>\n",
       "      <th>plant_name_ferc1</th>\n",
       "      <th>fuel_type_code_pudl</th>\n",
       "      <th>fuel_unit</th>\n",
       "      <th>fuel_qty_burned</th>\n",
       "      <th>fuel_mmbtu_per_unit</th>\n",
       "      <th>fuel_cost_per_unit_burned</th>\n",
       "      <th>fuel_cost_per_unit_delivered</th>\n",
       "      <th>fuel_cost_per_mmbtu</th>\n",
       "    </tr>\n",
       "  </thead>\n",
       "  <tbody>\n",
       "    <tr>\n",
       "      <th>0</th>\n",
       "      <td>f1_fuel_1994_12_1_0_7</td>\n",
       "      <td>1</td>\n",
       "      <td>1994</td>\n",
       "      <td>rockport</td>\n",
       "      <td>coal</td>\n",
       "      <td>ton</td>\n",
       "      <td>5377489.0</td>\n",
       "      <td>16.590</td>\n",
       "      <td>18.59</td>\n",
       "      <td>18.53</td>\n",
       "      <td>1.121</td>\n",
       "    </tr>\n",
       "    <tr>\n",
       "      <th>1</th>\n",
       "      <td>f1_fuel_1994_12_1_0_10</td>\n",
       "      <td>1</td>\n",
       "      <td>1994</td>\n",
       "      <td>rockport total plant</td>\n",
       "      <td>coal</td>\n",
       "      <td>ton</td>\n",
       "      <td>10486945.0</td>\n",
       "      <td>16.592</td>\n",
       "      <td>18.58</td>\n",
       "      <td>18.53</td>\n",
       "      <td>1.120</td>\n",
       "    </tr>\n",
       "    <tr>\n",
       "      <th>2</th>\n",
       "      <td>f1_fuel_1994_12_2_0_1</td>\n",
       "      <td>2</td>\n",
       "      <td>1994</td>\n",
       "      <td>gorgas</td>\n",
       "      <td>coal</td>\n",
       "      <td>ton</td>\n",
       "      <td>2978683.0</td>\n",
       "      <td>24.130</td>\n",
       "      <td>39.72</td>\n",
       "      <td>38.12</td>\n",
       "      <td>1.650</td>\n",
       "    </tr>\n",
       "    <tr>\n",
       "      <th>3</th>\n",
       "      <td>f1_fuel_1994_12_2_0_7</td>\n",
       "      <td>2</td>\n",
       "      <td>1994</td>\n",
       "      <td>barry</td>\n",
       "      <td>coal</td>\n",
       "      <td>ton</td>\n",
       "      <td>3739484.0</td>\n",
       "      <td>23.950</td>\n",
       "      <td>47.21</td>\n",
       "      <td>45.99</td>\n",
       "      <td>1.970</td>\n",
       "    </tr>\n",
       "    <tr>\n",
       "      <th>4</th>\n",
       "      <td>f1_fuel_1994_12_2_0_10</td>\n",
       "      <td>2</td>\n",
       "      <td>1994</td>\n",
       "      <td>chickasaw</td>\n",
       "      <td>gas</td>\n",
       "      <td>mcf</td>\n",
       "      <td>40533.0</td>\n",
       "      <td>1.000</td>\n",
       "      <td>2.77</td>\n",
       "      <td>2.77</td>\n",
       "      <td>2.570</td>\n",
       "    </tr>\n",
       "  </tbody>\n",
       "</table>\n",
       "</div>"
      ],
      "text/plain": [
       "                record_id  utility_id_ferc1  report_year  \\\n",
       "0   f1_fuel_1994_12_1_0_7                 1         1994   \n",
       "1  f1_fuel_1994_12_1_0_10                 1         1994   \n",
       "2   f1_fuel_1994_12_2_0_1                 2         1994   \n",
       "3   f1_fuel_1994_12_2_0_7                 2         1994   \n",
       "4  f1_fuel_1994_12_2_0_10                 2         1994   \n",
       "\n",
       "       plant_name_ferc1 fuel_type_code_pudl fuel_unit  fuel_qty_burned  \\\n",
       "0              rockport                coal       ton        5377489.0   \n",
       "1  rockport total plant                coal       ton       10486945.0   \n",
       "2                gorgas                coal       ton        2978683.0   \n",
       "3                 barry                coal       ton        3739484.0   \n",
       "4             chickasaw                 gas       mcf          40533.0   \n",
       "\n",
       "   fuel_mmbtu_per_unit  fuel_cost_per_unit_burned  \\\n",
       "0               16.590                      18.59   \n",
       "1               16.592                      18.58   \n",
       "2               24.130                      39.72   \n",
       "3               23.950                      47.21   \n",
       "4                1.000                       2.77   \n",
       "\n",
       "   fuel_cost_per_unit_delivered  fuel_cost_per_mmbtu  \n",
       "0                         18.53                1.121  \n",
       "1                         18.53                1.120  \n",
       "2                         38.12                1.650  \n",
       "3                         45.99                1.970  \n",
       "4                          2.77                2.570  "
      ]
     },
     "execution_count": 5,
     "metadata": {},
     "output_type": "execute_result"
    }
   ],
   "source": [
    "# Remove the Unnamed: 0 column\n",
    "hamoye_fuel_data.drop('Unnamed: 0', axis=1, inplace=True)\n",
    "hamoye_fuel_data.head()"
   ]
  },
  {
   "cell_type": "code",
   "execution_count": 6,
   "metadata": {},
   "outputs": [
    {
     "data": {
      "text/plain": [
       "fuel_type_code_pudl\n",
       "gas    13.659397\n",
       "Name: fuel_cost_per_unit_burned, dtype: float64"
      ]
     },
     "execution_count": 6,
     "metadata": {},
     "output_type": "execute_result"
    }
   ],
   "source": [
    "# To find out the type of fuel type had the lowest average fuel cost per unit burned\n",
    "hamoye_fuel_data.groupby('fuel_type_code_pudl')['fuel_cost_per_unit_burned'].mean().sort_values()[:1]"
   ]
  },
  {
   "cell_type": "code",
   "execution_count": 7,
   "metadata": {},
   "outputs": [
    {
     "name": "stdout",
     "output_type": "stream",
     "text": [
      "The fuel type code with the lowest average fuel cost per unit burned is Gas with an average of 13.659\n"
     ]
    }
   ],
   "source": [
    "print (\"The fuel type code with the lowest average fuel cost per unit burned is Gas with an average of\", round(13.659397, 3))"
   ]
  },
  {
   "cell_type": "markdown",
   "metadata": {},
   "source": [
    "## Question 4"
   ]
  },
  {
   "cell_type": "code",
   "execution_count": 8,
   "metadata": {},
   "outputs": [
    {
     "data": {
      "text/html": [
       "<div>\n",
       "<style scoped>\n",
       "    .dataframe tbody tr th:only-of-type {\n",
       "        vertical-align: middle;\n",
       "    }\n",
       "\n",
       "    .dataframe tbody tr th {\n",
       "        vertical-align: top;\n",
       "    }\n",
       "\n",
       "    .dataframe thead th {\n",
       "        text-align: right;\n",
       "    }\n",
       "</style>\n",
       "<table border=\"1\" class=\"dataframe\">\n",
       "  <thead>\n",
       "    <tr style=\"text-align: right;\">\n",
       "      <th></th>\n",
       "      <th>utility_id_ferc1</th>\n",
       "      <th>report_year</th>\n",
       "      <th>fuel_qty_burned</th>\n",
       "      <th>fuel_mmbtu_per_unit</th>\n",
       "      <th>fuel_cost_per_unit_burned</th>\n",
       "      <th>fuel_cost_per_unit_delivered</th>\n",
       "      <th>fuel_cost_per_mmbtu</th>\n",
       "    </tr>\n",
       "  </thead>\n",
       "  <tbody>\n",
       "    <tr>\n",
       "      <th>count</th>\n",
       "      <td>29523.000000</td>\n",
       "      <td>29523.000000</td>\n",
       "      <td>2.952300e+04</td>\n",
       "      <td>29523.000000</td>\n",
       "      <td>29523.000000</td>\n",
       "      <td>2.952300e+04</td>\n",
       "      <td>29523.000000</td>\n",
       "    </tr>\n",
       "    <tr>\n",
       "      <th>mean</th>\n",
       "      <td>118.601836</td>\n",
       "      <td>2005.806050</td>\n",
       "      <td>2.622119e+06</td>\n",
       "      <td>8.492111</td>\n",
       "      <td>208.649031</td>\n",
       "      <td>9.175704e+02</td>\n",
       "      <td>19.304354</td>\n",
       "    </tr>\n",
       "    <tr>\n",
       "      <th>std</th>\n",
       "      <td>74.178353</td>\n",
       "      <td>7.025483</td>\n",
       "      <td>9.118004e+06</td>\n",
       "      <td>10.600220</td>\n",
       "      <td>2854.490090</td>\n",
       "      <td>6.877593e+04</td>\n",
       "      <td>2091.540939</td>\n",
       "    </tr>\n",
       "    <tr>\n",
       "      <th>min</th>\n",
       "      <td>1.000000</td>\n",
       "      <td>1994.000000</td>\n",
       "      <td>1.000000e+00</td>\n",
       "      <td>0.000001</td>\n",
       "      <td>-276.080000</td>\n",
       "      <td>-8.749370e+02</td>\n",
       "      <td>-41.501000</td>\n",
       "    </tr>\n",
       "    <tr>\n",
       "      <th>25%</th>\n",
       "      <td>55.000000</td>\n",
       "      <td>2000.000000</td>\n",
       "      <td>1.381700e+04</td>\n",
       "      <td>1.024000</td>\n",
       "      <td>5.207000</td>\n",
       "      <td>3.778500e+00</td>\n",
       "      <td>1.940000</td>\n",
       "    </tr>\n",
       "    <tr>\n",
       "      <th>50%</th>\n",
       "      <td>122.000000</td>\n",
       "      <td>2006.000000</td>\n",
       "      <td>2.533220e+05</td>\n",
       "      <td>5.762694</td>\n",
       "      <td>26.000000</td>\n",
       "      <td>1.737100e+01</td>\n",
       "      <td>4.127000</td>\n",
       "    </tr>\n",
       "    <tr>\n",
       "      <th>75%</th>\n",
       "      <td>176.000000</td>\n",
       "      <td>2012.000000</td>\n",
       "      <td>1.424034e+06</td>\n",
       "      <td>17.006000</td>\n",
       "      <td>47.113000</td>\n",
       "      <td>4.213700e+01</td>\n",
       "      <td>7.745000</td>\n",
       "    </tr>\n",
       "    <tr>\n",
       "      <th>max</th>\n",
       "      <td>514.000000</td>\n",
       "      <td>2018.000000</td>\n",
       "      <td>5.558942e+08</td>\n",
       "      <td>341.260000</td>\n",
       "      <td>139358.000000</td>\n",
       "      <td>7.964521e+06</td>\n",
       "      <td>359278.000000</td>\n",
       "    </tr>\n",
       "  </tbody>\n",
       "</table>\n",
       "</div>"
      ],
      "text/plain": [
       "       utility_id_ferc1   report_year  fuel_qty_burned  fuel_mmbtu_per_unit  \\\n",
       "count      29523.000000  29523.000000     2.952300e+04         29523.000000   \n",
       "mean         118.601836   2005.806050     2.622119e+06             8.492111   \n",
       "std           74.178353      7.025483     9.118004e+06            10.600220   \n",
       "min            1.000000   1994.000000     1.000000e+00             0.000001   \n",
       "25%           55.000000   2000.000000     1.381700e+04             1.024000   \n",
       "50%          122.000000   2006.000000     2.533220e+05             5.762694   \n",
       "75%          176.000000   2012.000000     1.424034e+06            17.006000   \n",
       "max          514.000000   2018.000000     5.558942e+08           341.260000   \n",
       "\n",
       "       fuel_cost_per_unit_burned  fuel_cost_per_unit_delivered  \\\n",
       "count               29523.000000                  2.952300e+04   \n",
       "mean                  208.649031                  9.175704e+02   \n",
       "std                  2854.490090                  6.877593e+04   \n",
       "min                  -276.080000                 -8.749370e+02   \n",
       "25%                     5.207000                  3.778500e+00   \n",
       "50%                    26.000000                  1.737100e+01   \n",
       "75%                    47.113000                  4.213700e+01   \n",
       "max                139358.000000                  7.964521e+06   \n",
       "\n",
       "       fuel_cost_per_mmbtu  \n",
       "count         29523.000000  \n",
       "mean             19.304354  \n",
       "std            2091.540939  \n",
       "min             -41.501000  \n",
       "25%               1.940000  \n",
       "50%               4.127000  \n",
       "75%               7.745000  \n",
       "max          359278.000000  "
      ]
     },
     "execution_count": 8,
     "metadata": {},
     "output_type": "execute_result"
    }
   ],
   "source": [
    "# Get the summary statistics of the dataset by using the describe() function\n",
    "hamoye_fuel_data.describe()"
   ]
  },
  {
   "cell_type": "code",
   "execution_count": 9,
   "metadata": {},
   "outputs": [
    {
     "name": "stdout",
     "output_type": "stream",
     "text": [
      "The standard deviation and 75th percentile of fuel_mmbtu_per_unit are 10.6 and 17.01 respectively\n"
     ]
    }
   ],
   "source": [
    "print (\"The standard deviation and 75th percentile of fuel_mmbtu_per_unit are\",\n",
    "       round(10.600220, 2), \"and\", round(17.006000, 2), \"respectively\")"
   ]
  },
  {
   "cell_type": "markdown",
   "metadata": {},
   "source": [
    "## Question 5"
   ]
  },
  {
   "cell_type": "code",
   "execution_count": 10,
   "metadata": {},
   "outputs": [
    {
     "data": {
      "text/plain": [
       "15.851495469109503"
      ]
     },
     "execution_count": 10,
     "metadata": {},
     "output_type": "execute_result"
    }
   ],
   "source": [
    "# Obtain the skewness and kurtosis for fuel quantity burned\n",
    "hamoye_fuel_data['fuel_qty_burned'].skew()"
   ]
  },
  {
   "cell_type": "code",
   "execution_count": 11,
   "metadata": {},
   "outputs": [
    {
     "data": {
      "text/plain": [
       "651.3694501337732"
      ]
     },
     "execution_count": 11,
     "metadata": {},
     "output_type": "execute_result"
    }
   ],
   "source": [
    "hamoye_fuel_data['fuel_qty_burned'].kurtosis()"
   ]
  },
  {
   "cell_type": "code",
   "execution_count": 12,
   "metadata": {},
   "outputs": [
    {
     "name": "stdout",
     "output_type": "stream",
     "text": [
      "The Skewness for fuel quantity burned is 15.85 and the Kurtosis is 651.37\n"
     ]
    }
   ],
   "source": [
    "print (\"The Skewness for fuel quantity burned is\", \n",
    "       round(15.851495469109503, 2), \"and the Kurtosis is\", round(651.3694501337732, 2))"
   ]
  },
  {
   "cell_type": "markdown",
   "metadata": {},
   "source": [
    "## Question 6"
   ]
  },
  {
   "cell_type": "code",
   "execution_count": 13,
   "metadata": {},
   "outputs": [
    {
     "data": {
      "text/plain": [
       "record_id                         0\n",
       "utility_id_ferc1                  0\n",
       "report_year                       0\n",
       "plant_name_ferc1                  0\n",
       "fuel_type_code_pudl               0\n",
       "fuel_unit                       180\n",
       "fuel_qty_burned                   0\n",
       "fuel_mmbtu_per_unit               0\n",
       "fuel_cost_per_unit_burned         0\n",
       "fuel_cost_per_unit_delivered      0\n",
       "fuel_cost_per_mmbtu               0\n",
       "dtype: int64"
      ]
     },
     "execution_count": 13,
     "metadata": {},
     "output_type": "execute_result"
    }
   ],
   "source": [
    "# Check for missing values in the dataset\n",
    "hamoye_fuel_data.isnull().sum()"
   ]
  },
  {
   "cell_type": "code",
   "execution_count": 14,
   "metadata": {},
   "outputs": [
    {
     "data": {
      "text/plain": [
       "record_id                       0.000000\n",
       "utility_id_ferc1                0.000000\n",
       "report_year                     0.000000\n",
       "plant_name_ferc1                0.000000\n",
       "fuel_type_code_pudl             0.000000\n",
       "fuel_unit                       0.609694\n",
       "fuel_qty_burned                 0.000000\n",
       "fuel_mmbtu_per_unit             0.000000\n",
       "fuel_cost_per_unit_burned       0.000000\n",
       "fuel_cost_per_unit_delivered    0.000000\n",
       "fuel_cost_per_mmbtu             0.000000\n",
       "dtype: float64"
      ]
     },
     "execution_count": 14,
     "metadata": {},
     "output_type": "execute_result"
    }
   ],
   "source": [
    "# Find the pecentage of the missing values\n",
    "hamoye_fuel_data.isnull().sum() / len(hamoye_fuel_data) * 100"
   ]
  },
  {
   "cell_type": "code",
   "execution_count": 16,
   "metadata": {},
   "outputs": [
    {
     "name": "stdout",
     "output_type": "stream",
     "text": [
      "The Fuel Unit feature has 180 missing values with the percentage of the missing values as 0.61%\n"
     ]
    }
   ],
   "source": [
    "print (\"The Fuel Unit feature has \" + \n",
    "       str(180) + \" missing values with the percentage of the missing values as \" + \n",
    "       str(round(0.609694, 2)) + \"%\")"
   ]
  },
  {
   "cell_type": "markdown",
   "metadata": {},
   "source": [
    "## Question 7"
   ]
  },
  {
   "cell_type": "markdown",
   "metadata": {},
   "source": [
    "The Fuel Unit feature is a categorical data and we use the mode imputation technique to fil the missing values"
   ]
  },
  {
   "cell_type": "code",
   "execution_count": 17,
   "metadata": {},
   "outputs": [
    {
     "data": {
      "text/plain": [
       "mcf       11354\n",
       "ton        8958\n",
       "bbl        7998\n",
       "gramsU      464\n",
       "mmbtu       180\n",
       "kgU         110\n",
       "mwhth       100\n",
       "mwdth        95\n",
       "gal          84\n",
       "Name: fuel_unit, dtype: int64"
      ]
     },
     "execution_count": 17,
     "metadata": {},
     "output_type": "execute_result"
    }
   ],
   "source": [
    "# Find the most common value in the fuel unit feature\n",
    "hamoye_fuel_data['fuel_unit'].value_counts()"
   ]
  },
  {
   "cell_type": "code",
   "execution_count": 18,
   "metadata": {},
   "outputs": [],
   "source": [
    "# Fill the missing values with 'mcf' since it is the most occuring value\n",
    "hamoye_fuel_data['fuel_unit'] = hamoye_fuel_data['fuel_unit'].fillna(value='mcf')"
   ]
  },
  {
   "cell_type": "code",
   "execution_count": 19,
   "metadata": {},
   "outputs": [
    {
     "data": {
      "text/plain": [
       "record_id                       0\n",
       "utility_id_ferc1                0\n",
       "report_year                     0\n",
       "plant_name_ferc1                0\n",
       "fuel_type_code_pudl             0\n",
       "fuel_unit                       0\n",
       "fuel_qty_burned                 0\n",
       "fuel_mmbtu_per_unit             0\n",
       "fuel_cost_per_unit_burned       0\n",
       "fuel_cost_per_unit_delivered    0\n",
       "fuel_cost_per_mmbtu             0\n",
       "dtype: int64"
      ]
     },
     "execution_count": 19,
     "metadata": {},
     "output_type": "execute_result"
    }
   ],
   "source": [
    "# Check that the missing values have been filled\n",
    "hamoye_fuel_data.isnull().sum()"
   ]
  },
  {
   "cell_type": "markdown",
   "metadata": {},
   "source": [
    "## Question 8"
   ]
  },
  {
   "cell_type": "code",
   "execution_count": 21,
   "metadata": {},
   "outputs": [
    {
     "data": {
      "text/plain": [
       "utility_id_ferc1               -0.037863\n",
       "fuel_qty_burned                -0.018535\n",
       "fuel_mmbtu_per_unit            -0.010034\n",
       "fuel_cost_per_mmbtu            -0.000437\n",
       "fuel_cost_per_unit_delivered    0.011007\n",
       "report_year                     0.013599\n",
       "fuel_cost_per_unit_burned       1.000000\n",
       "Name: fuel_cost_per_unit_burned, dtype: float64"
      ]
     },
     "execution_count": 21,
     "metadata": {},
     "output_type": "execute_result"
    }
   ],
   "source": [
    "# Find the correlation between each of the other features with fuel cost per unit burned\n",
    "hamoye_fuel_data.corr().loc['fuel_cost_per_unit_burned'].sort_values()"
   ]
  },
  {
   "cell_type": "markdown",
   "metadata": {},
   "source": [
    "From the result above, the features with the second and third lowest correlation with Fuel Cost Per Unit Burned are Fuel Quantity Burned and Fuel mmbtu Per Unit"
   ]
  },
  {
   "cell_type": "markdown",
   "metadata": {},
   "source": [
    "## Question 9"
   ]
  },
  {
   "cell_type": "code",
   "execution_count": 22,
   "metadata": {},
   "outputs": [
    {
     "data": {
      "text/plain": [
       "report_year  fuel_type_code_pudl\n",
       "1994         coal                    14984.572\n",
       "             gas                     10792.496\n",
       "             nuclear                227983.354\n",
       "             oil                      9362.194\n",
       "             other                     116.737\n",
       "             waste                      52.762\n",
       "1995         coal                    14571.785\n",
       "             gas                      9087.905\n",
       "             nuclear                384152.639\n",
       "             oil                     17858.281\n",
       "             other                     183.577\n",
       "             waste                    -192.699\n",
       "1996         coal                    12694.803\n",
       "             gas                      1467.390\n",
       "             nuclear                 66657.887\n",
       "             oil                      5357.028\n",
       "             other                     160.075\n",
       "             waste                      88.092\n",
       "1997         coal                    43742.178\n",
       "             gas                      1518.471\n",
       "             nuclear                112593.911\n",
       "             oil                      5387.536\n",
       "             other                     153.923\n",
       "             waste                     137.433\n",
       "1998         coal                    11902.597\n",
       "             gas                      7475.596\n",
       "             nuclear                117788.269\n",
       "             oil                      2608.657\n",
       "             other                     225.428\n",
       "             waste                     238.109\n",
       "                                       ...    \n",
       "2013         other                     182.494\n",
       "             waste                     609.411\n",
       "2014         coal                    15412.197\n",
       "             gas                      4169.285\n",
       "             nuclear                229158.129\n",
       "             oil                    268670.603\n",
       "             other                       0.661\n",
       "             waste                     591.594\n",
       "2015         coal                    13338.235\n",
       "             gas                      6224.304\n",
       "             nuclear                208830.486\n",
       "             oil                     31038.094\n",
       "             other                       0.595\n",
       "             waste                     629.270\n",
       "2016         coal                    11100.925\n",
       "             gas                      1994.266\n",
       "             nuclear                213837.559\n",
       "             oil                     28012.376\n",
       "             other                       0.609\n",
       "             waste                     539.079\n",
       "2017         coal                    10254.284\n",
       "             gas                      4424.244\n",
       "             nuclear                197491.493\n",
       "             oil                     31935.723\n",
       "             waste                     452.079\n",
       "2018         coal                     9488.197\n",
       "             gas                      4322.494\n",
       "             nuclear                173267.161\n",
       "             oil                     33836.602\n",
       "             waste                     660.972\n",
       "Name: fuel_cost_per_unit_burned, Length: 148, dtype: float64"
      ]
     },
     "execution_count": 22,
     "metadata": {},
     "output_type": "execute_result"
    }
   ],
   "source": [
    "# Get the sum of fuel cost per unit burned in relation to the report year and the fuel type code\n",
    "hamoye_fuel_data2 = hamoye_fuel_data.groupby(['report_year', 'fuel_type_code_pudl'])['fuel_cost_per_unit_burned'].sum()\n",
    "hamoye_fuel_data2"
   ]
  },
  {
   "cell_type": "code",
   "execution_count": 23,
   "metadata": {},
   "outputs": [
    {
     "data": {
      "text/plain": [
       "-20.56765451826049"
      ]
     },
     "execution_count": 23,
     "metadata": {},
     "output_type": "execute_result"
    }
   ],
   "source": [
    "# Find the percentage change in fuel cost per unit burned in 1998 compared to 1994 for Coal\n",
    "year_1994, year_1998 = hamoye_fuel_data2.loc[[1994, 1998], 'coal']\n",
    "percentageChange = ((year_1998 - year_1994) / (year_1994)) * 100\n",
    "percentageChange"
   ]
  },
  {
   "cell_type": "markdown",
   "metadata": {},
   "source": [
    "The percentage change for Coal in the fuel cost per unit burned in 1998 compared to 1994 is approximately -21% which suggests a percentage decrease and implies that the fuel cost per unit burned for coal decreased in 1998 compared to its cost in 1994."
   ]
  },
  {
   "cell_type": "markdown",
   "metadata": {},
   "source": [
    "## Question 10"
   ]
  },
  {
   "cell_type": "code",
   "execution_count": 24,
   "metadata": {},
   "outputs": [
    {
     "data": {
      "text/plain": [
       "report_year\n",
       "1997    11140.197239\n",
       "Name: fuel_cost_per_unit_delivered, dtype: float64"
      ]
     },
     "execution_count": 24,
     "metadata": {},
     "output_type": "execute_result"
    }
   ],
   "source": [
    "# Find the year with the highest average fuel cost per unit delivered\n",
    "hamoye_fuel_data.groupby('report_year')['fuel_cost_per_unit_delivered'].mean().sort_values(ascending=False)[:1]"
   ]
  },
  {
   "cell_type": "markdown",
   "metadata": {},
   "source": [
    "The year with the highest mean fuel cost per unit delivered is 1997."
   ]
  }
 ],
 "metadata": {
  "kernelspec": {
   "display_name": "Python 3",
   "language": "python",
   "name": "python3"
  },
  "language_info": {
   "codemirror_mode": {
    "name": "ipython",
    "version": 3
   },
   "file_extension": ".py",
   "mimetype": "text/x-python",
   "name": "python",
   "nbconvert_exporter": "python",
   "pygments_lexer": "ipython3",
   "version": "3.6.5"
  }
 },
 "nbformat": 4,
 "nbformat_minor": 2
}
